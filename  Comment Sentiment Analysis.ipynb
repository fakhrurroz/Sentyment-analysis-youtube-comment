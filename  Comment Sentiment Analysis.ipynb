{
 "cells": [
  {
   "cell_type": "markdown",
   "id": "84d0c392",
   "metadata": {},
   "source": [
    "# YouTube Comments Sentiment Analysis "
   ]
  },
  {
   "cell_type": "code",
   "execution_count": 1,
   "id": "22a613cd",
   "metadata": {},
   "outputs": [],
   "source": [
    "# Basics\n",
    "import pandas as pd\n",
    "import os\n",
    "import csv\n",
    "import numpy as np\n",
    "import re\n",
    "import warnings\n",
    "warnings.filterwarnings('ignore')"
   ]
  },
  {
   "cell_type": "markdown",
   "id": "8a596346",
   "metadata": {},
   "source": [
    "### Data Loading\n",
    "Disini saya menggunakan data dari 5 komentar youtube video, 1 twitter, dan 1 sumber dari kaggle"
   ]
  },
  {
   "cell_type": "code",
   "execution_count": 2,
   "id": "fd5c0bcf",
   "metadata": {},
   "outputs": [],
   "source": [
    "# training data\n",
    "#youtube coment\n",
    "df1 = pd.read_csv('DATASET/ogvid.csv', delimiter=\";\", skiprows=2, encoding='latin-1', engine='python') # read in the data\n",
    "df2 = pd.read_csv('DATASET/dtvid.csv', delimiter=\",\", skiprows=2, encoding='utf-8', error_bad_lines=False, engine='python')\n",
    "df3 = pd.read_csv('DATASET/tsvid.csv', delimiter=\",\", skiprows=2, nrows=180, encoding='utf-8', engine='python')\n",
    "df4 = pd.read_csv('DATASET/lgvid.csv', delimiter=\",\", skiprows=2, nrows=200, encoding='utf-8', engine='python')\n",
    "df5 = pd.read_csv('DATASET/rwvid.csv', delimiter=\",\", skiprows=2, nrows=61, encoding='utf-8', engine='python')\n",
    "#kaggle\n",
    "df6 = pd.read_csv('DATASET/kaggel.csv', delimiter=\",\", skiprows=2, encoding='latin-1', engine='python') # read in the data\n",
    "#twitter\n",
    "df7 = pd.read_csv('DATASET/twt.csv', delimiter=\",\", skiprows=2, encoding='latin-1', engine='python') # read in the data"
   ]
  },
  {
   "cell_type": "markdown",
   "id": "2138f3ca",
   "metadata": {},
   "source": [
    "## Data Preprocessing"
   ]
  },
  {
   "cell_type": "code",
   "execution_count": 3,
   "id": "8f954b1a-d5a9-46a0-9191-4a05d5191ba3",
   "metadata": {},
   "outputs": [
    {
     "data": {
      "text/html": [
       "<div>\n",
       "<style scoped>\n",
       "    .dataframe tbody tr th:only-of-type {\n",
       "        vertical-align: middle;\n",
       "    }\n",
       "\n",
       "    .dataframe tbody tr th {\n",
       "        vertical-align: top;\n",
       "    }\n",
       "\n",
       "    .dataframe thead th {\n",
       "        text-align: right;\n",
       "    }\n",
       "</style>\n",
       "<table border=\"1\" class=\"dataframe\">\n",
       "  <thead>\n",
       "    <tr style=\"text-align: right;\">\n",
       "      <th></th>\n",
       "      <th>Sentiment</th>\n",
       "      <th>TweetText</th>\n",
       "    </tr>\n",
       "  </thead>\n",
       "  <tbody>\n",
       "    <tr>\n",
       "      <th>0</th>\n",
       "      <td>positive</td>\n",
       "      <td>Now all @Apple has to do is get swype on the i...</td>\n",
       "    </tr>\n",
       "    <tr>\n",
       "      <th>1</th>\n",
       "      <td>positive</td>\n",
       "      <td>@Apple will be adding more carrier support to ...</td>\n",
       "    </tr>\n",
       "    <tr>\n",
       "      <th>2</th>\n",
       "      <td>positive</td>\n",
       "      <td>Hilarious @youtube video - guy does a duet wit...</td>\n",
       "    </tr>\n",
       "    <tr>\n",
       "      <th>3</th>\n",
       "      <td>positive</td>\n",
       "      <td>@RIM you made it too easy for me to switch to ...</td>\n",
       "    </tr>\n",
       "    <tr>\n",
       "      <th>4</th>\n",
       "      <td>positive</td>\n",
       "      <td>I just realized that the reason I got into twi...</td>\n",
       "    </tr>\n",
       "  </tbody>\n",
       "</table>\n",
       "</div>"
      ],
      "text/plain": [
       "  Sentiment                                          TweetText\n",
       "0  positive  Now all @Apple has to do is get swype on the i...\n",
       "1  positive  @Apple will be adding more carrier support to ...\n",
       "2  positive  Hilarious @youtube video - guy does a duet wit...\n",
       "3  positive  @RIM you made it too easy for me to switch to ...\n",
       "4  positive  I just realized that the reason I got into twi..."
      ]
     },
     "execution_count": 3,
     "metadata": {},
     "output_type": "execute_result"
    }
   ],
   "source": [
    "# clean dataframes\n",
    "df7 = df7.drop(['Topic', 'TweetId', \"TweetDate\"], axis = 1).dropna()\n",
    "df7.head()"
   ]
  },
  {
   "cell_type": "code",
   "execution_count": 4,
   "id": "1a01ffc5",
   "metadata": {},
   "outputs": [],
   "source": [
    "def fix_cols(DF):\n",
    "    DF = DF.iloc[:,:2]\n",
    "    DF.columns = [\"label\", \"comment\"]\n",
    "    return DF"
   ]
  },
  {
   "cell_type": "code",
   "execution_count": 5,
   "id": "d8820145",
   "metadata": {},
   "outputs": [
    {
     "data": {
      "text/html": [
       "<div>\n",
       "<style scoped>\n",
       "    .dataframe tbody tr th:only-of-type {\n",
       "        vertical-align: middle;\n",
       "    }\n",
       "\n",
       "    .dataframe tbody tr th {\n",
       "        vertical-align: top;\n",
       "    }\n",
       "\n",
       "    .dataframe thead th {\n",
       "        text-align: right;\n",
       "    }\n",
       "</style>\n",
       "<table border=\"1\" class=\"dataframe\">\n",
       "  <thead>\n",
       "    <tr style=\"text-align: right;\">\n",
       "      <th></th>\n",
       "      <th>label</th>\n",
       "      <th>comment</th>\n",
       "    </tr>\n",
       "  </thead>\n",
       "  <tbody>\n",
       "    <tr>\n",
       "      <th>0</th>\n",
       "      <td>-1.0</td>\n",
       "      <td>Everyone knows brand's papers from.\\rBut -No o...</td>\n",
       "    </tr>\n",
       "    <tr>\n",
       "      <th>1</th>\n",
       "      <td>0.0</td>\n",
       "      <td>ÒYour paper cut balance is: \\r-£25279102771Ó</td>\n",
       "    </tr>\n",
       "    <tr>\n",
       "      <th>2</th>\n",
       "      <td>1.0</td>\n",
       "      <td>OH SHIT WHEN I SAW THIS ON MY FRONT PAGE.........</td>\n",
       "    </tr>\n",
       "    <tr>\n",
       "      <th>3</th>\n",
       "      <td>1.0</td>\n",
       "      <td>Blowing my mind yet again</td>\n",
       "    </tr>\n",
       "    <tr>\n",
       "      <th>4</th>\n",
       "      <td>0.0</td>\n",
       "      <td>Should have gone with Dunder Mifflin</td>\n",
       "    </tr>\n",
       "  </tbody>\n",
       "</table>\n",
       "</div>"
      ],
      "text/plain": [
       "   label                                            comment\n",
       "0   -1.0  Everyone knows brand's papers from.\\rBut -No o...\n",
       "1    0.0       ÒYour paper cut balance is: \\r-£25279102771Ó\n",
       "2    1.0  OH SHIT WHEN I SAW THIS ON MY FRONT PAGE.........\n",
       "3    1.0                          Blowing my mind yet again\n",
       "4    0.0               Should have gone with Dunder Mifflin"
      ]
     },
     "execution_count": 5,
     "metadata": {},
     "output_type": "execute_result"
    }
   ],
   "source": [
    "df1 = fix_cols(df1)\n",
    "df2 = fix_cols(df2)\n",
    "df3 = fix_cols(df3)\n",
    "df4 = fix_cols(df4)\n",
    "df5 = fix_cols(df5)\n",
    "df7 = fix_cols(df7)\n",
    "\n",
    "\n",
    "\n",
    "df1.head()"
   ]
  },
  {
   "cell_type": "code",
   "execution_count": 6,
   "id": "c08ab16b-e6f2-4825-b690-2cc6376f1d22",
   "metadata": {},
   "outputs": [],
   "source": [
    "df7.label = df7.label.replace({'positive': '1.0', 'negative':'-1.0', 'neutral': '0.0', 'irrelevant': '0.0'}, regex=True)\n",
    "df7['label'] = pd.to_numeric(df7['label'], errors='coerce')"
   ]
  },
  {
   "cell_type": "code",
   "execution_count": 7,
   "id": "0d6b88eb-3a50-42de-96b9-874d03f0d344",
   "metadata": {},
   "outputs": [
    {
     "data": {
      "text/html": [
       "<div>\n",
       "<style scoped>\n",
       "    .dataframe tbody tr th:only-of-type {\n",
       "        vertical-align: middle;\n",
       "    }\n",
       "\n",
       "    .dataframe tbody tr th {\n",
       "        vertical-align: top;\n",
       "    }\n",
       "\n",
       "    .dataframe thead th {\n",
       "        text-align: right;\n",
       "    }\n",
       "</style>\n",
       "<table border=\"1\" class=\"dataframe\">\n",
       "  <thead>\n",
       "    <tr style=\"text-align: right;\">\n",
       "      <th></th>\n",
       "      <th>label</th>\n",
       "      <th>comment</th>\n",
       "    </tr>\n",
       "  </thead>\n",
       "  <tbody>\n",
       "    <tr>\n",
       "      <th>0</th>\n",
       "      <td>1.0</td>\n",
       "      <td>Now all @Apple has to do is get swype on the i...</td>\n",
       "    </tr>\n",
       "    <tr>\n",
       "      <th>1</th>\n",
       "      <td>1.0</td>\n",
       "      <td>@Apple will be adding more carrier support to ...</td>\n",
       "    </tr>\n",
       "    <tr>\n",
       "      <th>2</th>\n",
       "      <td>1.0</td>\n",
       "      <td>Hilarious @youtube video - guy does a duet wit...</td>\n",
       "    </tr>\n",
       "    <tr>\n",
       "      <th>3</th>\n",
       "      <td>1.0</td>\n",
       "      <td>@RIM you made it too easy for me to switch to ...</td>\n",
       "    </tr>\n",
       "    <tr>\n",
       "      <th>4</th>\n",
       "      <td>1.0</td>\n",
       "      <td>I just realized that the reason I got into twi...</td>\n",
       "    </tr>\n",
       "  </tbody>\n",
       "</table>\n",
       "</div>"
      ],
      "text/plain": [
       "   label                                            comment\n",
       "0    1.0  Now all @Apple has to do is get swype on the i...\n",
       "1    1.0  @Apple will be adding more carrier support to ...\n",
       "2    1.0  Hilarious @youtube video - guy does a duet wit...\n",
       "3    1.0  @RIM you made it too easy for me to switch to ...\n",
       "4    1.0  I just realized that the reason I got into twi..."
      ]
     },
     "execution_count": 7,
     "metadata": {},
     "output_type": "execute_result"
    }
   ],
   "source": [
    "df6 = fix_cols(df6)\n",
    "df7 = fix_cols(df7)\n",
    "\n",
    "df7.head()"
   ]
  },
  {
   "cell_type": "markdown",
   "id": "5e8b608f",
   "metadata": {},
   "source": [
    "### Membuat Datasets"
   ]
  },
  {
   "cell_type": "code",
   "execution_count": 8,
   "id": "e909aaa4",
   "metadata": {},
   "outputs": [
    {
     "data": {
      "text/html": [
       "<div>\n",
       "<style scoped>\n",
       "    .dataframe tbody tr th:only-of-type {\n",
       "        vertical-align: middle;\n",
       "    }\n",
       "\n",
       "    .dataframe tbody tr th {\n",
       "        vertical-align: top;\n",
       "    }\n",
       "\n",
       "    .dataframe thead th {\n",
       "        text-align: right;\n",
       "    }\n",
       "</style>\n",
       "<table border=\"1\" class=\"dataframe\">\n",
       "  <thead>\n",
       "    <tr style=\"text-align: right;\">\n",
       "      <th></th>\n",
       "      <th>label</th>\n",
       "      <th>comment</th>\n",
       "    </tr>\n",
       "  </thead>\n",
       "  <tbody>\n",
       "    <tr>\n",
       "      <th>0</th>\n",
       "      <td>-1.0</td>\n",
       "      <td>Everyone knows brand's papers from.\\rBut -No o...</td>\n",
       "    </tr>\n",
       "    <tr>\n",
       "      <th>1</th>\n",
       "      <td>0.0</td>\n",
       "      <td>ÒYour paper cut balance is: \\r-£25279102771Ó</td>\n",
       "    </tr>\n",
       "    <tr>\n",
       "      <th>2</th>\n",
       "      <td>1.0</td>\n",
       "      <td>OH SHIT WHEN I SAW THIS ON MY FRONT PAGE.........</td>\n",
       "    </tr>\n",
       "    <tr>\n",
       "      <th>3</th>\n",
       "      <td>1.0</td>\n",
       "      <td>Blowing my mind yet again</td>\n",
       "    </tr>\n",
       "    <tr>\n",
       "      <th>4</th>\n",
       "      <td>0.0</td>\n",
       "      <td>Should have gone with Dunder Mifflin</td>\n",
       "    </tr>\n",
       "  </tbody>\n",
       "</table>\n",
       "</div>"
      ],
      "text/plain": [
       "   label                                            comment\n",
       "0   -1.0  Everyone knows brand's papers from.\\rBut -No o...\n",
       "1    0.0       ÒYour paper cut balance is: \\r-£25279102771Ó\n",
       "2    1.0  OH SHIT WHEN I SAW THIS ON MY FRONT PAGE.........\n",
       "3    1.0                          Blowing my mind yet again\n",
       "4    0.0               Should have gone with Dunder Mifflin"
      ]
     },
     "execution_count": 8,
     "metadata": {},
     "output_type": "execute_result"
    }
   ],
   "source": [
    "yt_comments = pd.concat([df1,df2,df3,df4,df5], ignore_index=True)\n",
    "yt_comments.head()"
   ]
  },
  {
   "cell_type": "code",
   "execution_count": 9,
   "id": "479d4cea-384b-4808-9414-03b31378ba0a",
   "metadata": {},
   "outputs": [
    {
     "data": {
      "text/html": [
       "<div>\n",
       "<style scoped>\n",
       "    .dataframe tbody tr th:only-of-type {\n",
       "        vertical-align: middle;\n",
       "    }\n",
       "\n",
       "    .dataframe tbody tr th {\n",
       "        vertical-align: top;\n",
       "    }\n",
       "\n",
       "    .dataframe thead th {\n",
       "        text-align: right;\n",
       "    }\n",
       "</style>\n",
       "<table border=\"1\" class=\"dataframe\">\n",
       "  <thead>\n",
       "    <tr style=\"text-align: right;\">\n",
       "      <th></th>\n",
       "      <th>label</th>\n",
       "      <th>comment</th>\n",
       "    </tr>\n",
       "  </thead>\n",
       "  <tbody>\n",
       "    <tr>\n",
       "      <th>0</th>\n",
       "      <td>1.0</td>\n",
       "      <td>i liked the Da Vinci Code a lot</td>\n",
       "    </tr>\n",
       "    <tr>\n",
       "      <th>1</th>\n",
       "      <td>1.0</td>\n",
       "      <td>i liked the Da Vinci Code a lot</td>\n",
       "    </tr>\n",
       "    <tr>\n",
       "      <th>2</th>\n",
       "      <td>1.0</td>\n",
       "      <td>I liked the Da Vinci Code but it ultimatly di...</td>\n",
       "    </tr>\n",
       "    <tr>\n",
       "      <th>3</th>\n",
       "      <td>1.0</td>\n",
       "      <td>that's not even an exaggeration ) and at midn...</td>\n",
       "    </tr>\n",
       "    <tr>\n",
       "      <th>4</th>\n",
       "      <td>1.0</td>\n",
       "      <td>I loved the Da Vinci Code but now I want some...</td>\n",
       "    </tr>\n",
       "  </tbody>\n",
       "</table>\n",
       "</div>"
      ],
      "text/plain": [
       "   label                                            comment\n",
       "0    1.0                    i liked the Da Vinci Code a lot\n",
       "1    1.0                    i liked the Da Vinci Code a lot\n",
       "2    1.0   I liked the Da Vinci Code but it ultimatly di...\n",
       "3    1.0   that's not even an exaggeration ) and at midn...\n",
       "4    1.0   I loved the Da Vinci Code but now I want some..."
      ]
     },
     "execution_count": 9,
     "metadata": {},
     "output_type": "execute_result"
    }
   ],
   "source": [
    "non_yt_comments = pd.concat([df6, df7], ignore_index=True)\n",
    "non_yt_comments.head()"
   ]
  },
  {
   "cell_type": "code",
   "execution_count": 10,
   "id": "cee5a6fe",
   "metadata": {},
   "outputs": [
    {
     "name": "stdout",
     "output_type": "stream",
     "text": [
      "<class 'pandas.core.frame.DataFrame'>\n",
      "RangeIndex: 17185 entries, 0 to 17184\n",
      "Data columns (total 2 columns):\n",
      " #   Column   Non-Null Count  Dtype  \n",
      "---  ------   --------------  -----  \n",
      " 0   label    14830 non-null  float64\n",
      " 1   comment  17182 non-null  object \n",
      "dtypes: float64(1), object(1)\n",
      "memory usage: 268.6+ KB\n"
     ]
    }
   ],
   "source": [
    "comments = pd.concat([yt_comments, non_yt_comments], ignore_index=True)\n",
    "comments.info()"
   ]
  },
  {
   "cell_type": "markdown",
   "id": "b13d25d3",
   "metadata": {},
   "source": [
    "### Menghapus Kata Non-Alphabetic "
   ]
  },
  {
   "cell_type": "code",
   "execution_count": 11,
   "id": "04216102",
   "metadata": {},
   "outputs": [],
   "source": [
    "def convert_to_string(DF):\n",
    "    DF[\"comment\"]= DF[\"comment\"].astype(str) "
   ]
  },
  {
   "cell_type": "code",
   "execution_count": 12,
   "id": "dcc4e3bb",
   "metadata": {},
   "outputs": [],
   "source": [
    "convert_to_string(comments)"
   ]
  },
  {
   "cell_type": "code",
   "execution_count": 13,
   "id": "fd9cfdcd",
   "metadata": {},
   "outputs": [],
   "source": [
    "def cleanerFn(b):\n",
    "    # hanya menyimpan kata-kata dengan karakter alfabet di komentar\n",
    "    for row in range(len(b)):\n",
    "        line = b.loc[row, \"comment\"]\n",
    "        b.loc[row,\"comment\"] = re.sub(\"[^a-zA-Z]\", \" \", line)"
   ]
  },
  {
   "cell_type": "code",
   "execution_count": 14,
   "id": "50219d27",
   "metadata": {
    "scrolled": true
   },
   "outputs": [
    {
     "data": {
      "text/html": [
       "<div>\n",
       "<style scoped>\n",
       "    .dataframe tbody tr th:only-of-type {\n",
       "        vertical-align: middle;\n",
       "    }\n",
       "\n",
       "    .dataframe tbody tr th {\n",
       "        vertical-align: top;\n",
       "    }\n",
       "\n",
       "    .dataframe thead th {\n",
       "        text-align: right;\n",
       "    }\n",
       "</style>\n",
       "<table border=\"1\" class=\"dataframe\">\n",
       "  <thead>\n",
       "    <tr style=\"text-align: right;\">\n",
       "      <th></th>\n",
       "      <th>label</th>\n",
       "      <th>comment</th>\n",
       "    </tr>\n",
       "  </thead>\n",
       "  <tbody>\n",
       "    <tr>\n",
       "      <th>0</th>\n",
       "      <td>-1.0</td>\n",
       "      <td>Everyone knows brand s papers from  But  No on...</td>\n",
       "    </tr>\n",
       "    <tr>\n",
       "      <th>1</th>\n",
       "      <td>0.0</td>\n",
       "      <td>Your paper cut balance is</td>\n",
       "    </tr>\n",
       "    <tr>\n",
       "      <th>2</th>\n",
       "      <td>1.0</td>\n",
       "      <td>OH SHIT WHEN I SAW THIS ON MY FRONT PAGE      ...</td>\n",
       "    </tr>\n",
       "    <tr>\n",
       "      <th>3</th>\n",
       "      <td>1.0</td>\n",
       "      <td>Blowing my mind yet again</td>\n",
       "    </tr>\n",
       "    <tr>\n",
       "      <th>4</th>\n",
       "      <td>0.0</td>\n",
       "      <td>Should have gone with Dunder Mifflin</td>\n",
       "    </tr>\n",
       "  </tbody>\n",
       "</table>\n",
       "</div>"
      ],
      "text/plain": [
       "   label                                            comment\n",
       "0   -1.0  Everyone knows brand s papers from  But  No on...\n",
       "1    0.0         Your paper cut balance is                 \n",
       "2    1.0  OH SHIT WHEN I SAW THIS ON MY FRONT PAGE      ...\n",
       "3    1.0                          Blowing my mind yet again\n",
       "4    0.0               Should have gone with Dunder Mifflin"
      ]
     },
     "execution_count": 14,
     "metadata": {},
     "output_type": "execute_result"
    }
   ],
   "source": [
    "cleanerFn(comments)\n",
    "comments.head()"
   ]
  },
  {
   "cell_type": "markdown",
   "id": "3b94f1bb",
   "metadata": {},
   "source": [
    "### Natural Language Processing"
   ]
  },
  {
   "cell_type": "code",
   "execution_count": 15,
   "id": "84bdefff",
   "metadata": {},
   "outputs": [],
   "source": [
    "import nltk\n",
    "from nltk.tokenize import sent_tokenize, word_tokenize\n",
    "from nltk.corpus import stopwords\n",
    "from nltk.stem.porter import *\n",
    "from nltk.stem import PorterStemmer\n",
    "from sklearn.feature_extraction.text import TfidfVectorizer\n",
    "from sklearn.feature_extraction.text import CountVectorizer"
   ]
  },
  {
   "cell_type": "code",
   "execution_count": 16,
   "id": "f30aa109-9fdd-493b-ab8b-6eda7cd53725",
   "metadata": {},
   "outputs": [
    {
     "name": "stderr",
     "output_type": "stream",
     "text": [
      "[nltk_data] Downloading package stopwords to C:\\Users\\ASUS\n",
      "[nltk_data]     TUF\\AppData\\Roaming\\nltk_data...\n",
      "[nltk_data]   Package stopwords is already up-to-date!\n"
     ]
    },
    {
     "data": {
      "text/plain": [
       "True"
      ]
     },
     "execution_count": 16,
     "metadata": {},
     "output_type": "execute_result"
    }
   ],
   "source": [
    "import nltk\n",
    "nltk.download('stopwords')"
   ]
  },
  {
   "cell_type": "code",
   "execution_count": 17,
   "id": "cac3cd8e-89a6-4341-919c-8ff3be49e0f6",
   "metadata": {},
   "outputs": [
    {
     "name": "stderr",
     "output_type": "stream",
     "text": [
      "[nltk_data] Downloading package wordnet to C:\\Users\\ASUS\n",
      "[nltk_data]     TUF\\AppData\\Roaming\\nltk_data...\n",
      "[nltk_data]   Package wordnet is already up-to-date!\n"
     ]
    },
    {
     "data": {
      "text/plain": [
       "True"
      ]
     },
     "execution_count": 17,
     "metadata": {},
     "output_type": "execute_result"
    }
   ],
   "source": [
    "nltk.download('wordnet')\n"
   ]
  },
  {
   "cell_type": "code",
   "execution_count": 18,
   "id": "f01daee4",
   "metadata": {},
   "outputs": [],
   "source": [
    "sw = stopwords.words('english')\n",
    "ps = PorterStemmer()\n",
    "lemmatizer = nltk.stem.WordNetLemmatizer()"
   ]
  },
  {
   "cell_type": "markdown",
   "id": "3187d77e",
   "metadata": {},
   "source": [
    "#### Tokenization, Remove Stop Words, Lemmatization & Stemming"
   ]
  },
  {
   "cell_type": "code",
   "execution_count": 19,
   "id": "b6de5bf2",
   "metadata": {},
   "outputs": [],
   "source": [
    "def nlpFunction(DF):\n",
    "    DF['com_token'] = DF['comment'].str.lower().str.split()\n",
    "    DF['com_remv'] = DF['com_token'].apply(lambda x: [y for y in x if y not in sw])\n",
    "    DF[\"com_lemma\"] = DF['com_remv'].apply(lambda x : [lemmatizer.lemmatize(y) for y in x]) # lemmatization\n",
    "    DF['com_stem'] = DF['com_lemma'].apply(lambda x : [ps.stem(y) for y in x]) # stemming\n",
    "    DF[\"com_tok_str\"] = DF[\"com_stem\"].apply(', '.join)\n",
    "    DF[\"com_full\"] = DF[\"com_remv\"].apply(' '.join)\n",
    "    return DF"
   ]
  },
  {
   "cell_type": "code",
   "execution_count": 20,
   "id": "7f2ac4be",
   "metadata": {
    "scrolled": true
   },
   "outputs": [
    {
     "data": {
      "text/html": [
       "<div>\n",
       "<style scoped>\n",
       "    .dataframe tbody tr th:only-of-type {\n",
       "        vertical-align: middle;\n",
       "    }\n",
       "\n",
       "    .dataframe tbody tr th {\n",
       "        vertical-align: top;\n",
       "    }\n",
       "\n",
       "    .dataframe thead th {\n",
       "        text-align: right;\n",
       "    }\n",
       "</style>\n",
       "<table border=\"1\" class=\"dataframe\">\n",
       "  <thead>\n",
       "    <tr style=\"text-align: right;\">\n",
       "      <th></th>\n",
       "      <th>label</th>\n",
       "      <th>comment</th>\n",
       "      <th>com_token</th>\n",
       "      <th>com_remv</th>\n",
       "      <th>com_lemma</th>\n",
       "      <th>com_stem</th>\n",
       "      <th>com_tok_str</th>\n",
       "      <th>com_full</th>\n",
       "    </tr>\n",
       "  </thead>\n",
       "  <tbody>\n",
       "    <tr>\n",
       "      <th>0</th>\n",
       "      <td>-1.0</td>\n",
       "      <td>Everyone knows brand s papers from  But  No on...</td>\n",
       "      <td>[everyone, knows, brand, s, papers, from, but,...</td>\n",
       "      <td>[everyone, knows, brand, papers, one, knows, w...</td>\n",
       "      <td>[everyone, know, brand, paper, one, know, welf...</td>\n",
       "      <td>[everyon, know, brand, paper, one, know, welfa...</td>\n",
       "      <td>everyon, know, brand, paper, one, know, welfar...</td>\n",
       "      <td>everyone knows brand papers one knows welfare ...</td>\n",
       "    </tr>\n",
       "    <tr>\n",
       "      <th>1</th>\n",
       "      <td>0.0</td>\n",
       "      <td>Your paper cut balance is</td>\n",
       "      <td>[your, paper, cut, balance, is]</td>\n",
       "      <td>[paper, cut, balance]</td>\n",
       "      <td>[paper, cut, balance]</td>\n",
       "      <td>[paper, cut, balanc]</td>\n",
       "      <td>paper, cut, balanc</td>\n",
       "      <td>paper cut balance</td>\n",
       "    </tr>\n",
       "    <tr>\n",
       "      <th>2</th>\n",
       "      <td>1.0</td>\n",
       "      <td>OH SHIT WHEN I SAW THIS ON MY FRONT PAGE      ...</td>\n",
       "      <td>[oh, shit, when, i, saw, this, on, my, front, ...</td>\n",
       "      <td>[oh, shit, saw, front, page, love, song]</td>\n",
       "      <td>[oh, shit, saw, front, page, love, song]</td>\n",
       "      <td>[oh, shit, saw, front, page, love, song]</td>\n",
       "      <td>oh, shit, saw, front, page, love, song</td>\n",
       "      <td>oh shit saw front page love song</td>\n",
       "    </tr>\n",
       "    <tr>\n",
       "      <th>3</th>\n",
       "      <td>1.0</td>\n",
       "      <td>Blowing my mind yet again</td>\n",
       "      <td>[blowing, my, mind, yet, again]</td>\n",
       "      <td>[blowing, mind, yet]</td>\n",
       "      <td>[blowing, mind, yet]</td>\n",
       "      <td>[blow, mind, yet]</td>\n",
       "      <td>blow, mind, yet</td>\n",
       "      <td>blowing mind yet</td>\n",
       "    </tr>\n",
       "    <tr>\n",
       "      <th>4</th>\n",
       "      <td>0.0</td>\n",
       "      <td>Should have gone with Dunder Mifflin</td>\n",
       "      <td>[should, have, gone, with, dunder, mifflin]</td>\n",
       "      <td>[gone, dunder, mifflin]</td>\n",
       "      <td>[gone, dunder, mifflin]</td>\n",
       "      <td>[gone, dunder, mifflin]</td>\n",
       "      <td>gone, dunder, mifflin</td>\n",
       "      <td>gone dunder mifflin</td>\n",
       "    </tr>\n",
       "  </tbody>\n",
       "</table>\n",
       "</div>"
      ],
      "text/plain": [
       "   label                                            comment  \\\n",
       "0   -1.0  Everyone knows brand s papers from  But  No on...   \n",
       "1    0.0         Your paper cut balance is                    \n",
       "2    1.0  OH SHIT WHEN I SAW THIS ON MY FRONT PAGE      ...   \n",
       "3    1.0                          Blowing my mind yet again   \n",
       "4    0.0               Should have gone with Dunder Mifflin   \n",
       "\n",
       "                                           com_token  \\\n",
       "0  [everyone, knows, brand, s, papers, from, but,...   \n",
       "1                    [your, paper, cut, balance, is]   \n",
       "2  [oh, shit, when, i, saw, this, on, my, front, ...   \n",
       "3                    [blowing, my, mind, yet, again]   \n",
       "4        [should, have, gone, with, dunder, mifflin]   \n",
       "\n",
       "                                            com_remv  \\\n",
       "0  [everyone, knows, brand, papers, one, knows, w...   \n",
       "1                              [paper, cut, balance]   \n",
       "2           [oh, shit, saw, front, page, love, song]   \n",
       "3                               [blowing, mind, yet]   \n",
       "4                            [gone, dunder, mifflin]   \n",
       "\n",
       "                                           com_lemma  \\\n",
       "0  [everyone, know, brand, paper, one, know, welf...   \n",
       "1                              [paper, cut, balance]   \n",
       "2           [oh, shit, saw, front, page, love, song]   \n",
       "3                               [blowing, mind, yet]   \n",
       "4                            [gone, dunder, mifflin]   \n",
       "\n",
       "                                            com_stem  \\\n",
       "0  [everyon, know, brand, paper, one, know, welfa...   \n",
       "1                               [paper, cut, balanc]   \n",
       "2           [oh, shit, saw, front, page, love, song]   \n",
       "3                                  [blow, mind, yet]   \n",
       "4                            [gone, dunder, mifflin]   \n",
       "\n",
       "                                         com_tok_str  \\\n",
       "0  everyon, know, brand, paper, one, know, welfar...   \n",
       "1                                 paper, cut, balanc   \n",
       "2             oh, shit, saw, front, page, love, song   \n",
       "3                                    blow, mind, yet   \n",
       "4                              gone, dunder, mifflin   \n",
       "\n",
       "                                            com_full  \n",
       "0  everyone knows brand papers one knows welfare ...  \n",
       "1                                  paper cut balance  \n",
       "2                   oh shit saw front page love song  \n",
       "3                                   blowing mind yet  \n",
       "4                                gone dunder mifflin  "
      ]
     },
     "execution_count": 20,
     "metadata": {},
     "output_type": "execute_result"
    }
   ],
   "source": [
    "comments = nlpFunction(comments)\n",
    "comments.head()"
   ]
  },
  {
   "cell_type": "code",
   "execution_count": 21,
   "id": "249f017d",
   "metadata": {},
   "outputs": [
    {
     "data": {
      "text/html": [
       "<div>\n",
       "<style scoped>\n",
       "    .dataframe tbody tr th:only-of-type {\n",
       "        vertical-align: middle;\n",
       "    }\n",
       "\n",
       "    .dataframe tbody tr th {\n",
       "        vertical-align: top;\n",
       "    }\n",
       "\n",
       "    .dataframe thead th {\n",
       "        text-align: right;\n",
       "    }\n",
       "</style>\n",
       "<table border=\"1\" class=\"dataframe\">\n",
       "  <thead>\n",
       "    <tr style=\"text-align: right;\">\n",
       "      <th></th>\n",
       "      <th>label</th>\n",
       "      <th>com_full</th>\n",
       "    </tr>\n",
       "  </thead>\n",
       "  <tbody>\n",
       "    <tr>\n",
       "      <th>0</th>\n",
       "      <td>-1.0</td>\n",
       "      <td>everyone knows brand papers one knows welfare ...</td>\n",
       "    </tr>\n",
       "    <tr>\n",
       "      <th>1</th>\n",
       "      <td>0.0</td>\n",
       "      <td>paper cut balance</td>\n",
       "    </tr>\n",
       "    <tr>\n",
       "      <th>2</th>\n",
       "      <td>1.0</td>\n",
       "      <td>oh shit saw front page love song</td>\n",
       "    </tr>\n",
       "    <tr>\n",
       "      <th>3</th>\n",
       "      <td>1.0</td>\n",
       "      <td>blowing mind yet</td>\n",
       "    </tr>\n",
       "    <tr>\n",
       "      <th>4</th>\n",
       "      <td>0.0</td>\n",
       "      <td>gone dunder mifflin</td>\n",
       "    </tr>\n",
       "  </tbody>\n",
       "</table>\n",
       "</div>"
      ],
      "text/plain": [
       "   label                                           com_full\n",
       "0   -1.0  everyone knows brand papers one knows welfare ...\n",
       "1    0.0                                  paper cut balance\n",
       "2    1.0                   oh shit saw front page love song\n",
       "3    1.0                                   blowing mind yet\n",
       "4    0.0                                gone dunder mifflin"
      ]
     },
     "execution_count": 21,
     "metadata": {},
     "output_type": "execute_result"
    }
   ],
   "source": [
    "def drop_cols_after_nlp(comments):\n",
    "    comments = comments.drop(columns = ['comment', 'com_token', 'com_remv', 'com_lemma', 'com_stem', 'com_tok_str'], axis = 1)\n",
    "    return comments\n",
    "comments = drop_cols_after_nlp(comments)\n",
    "comments.head()"
   ]
  },
  {
   "cell_type": "code",
   "execution_count": 22,
   "id": "2a2ddfad",
   "metadata": {},
   "outputs": [
    {
     "data": {
      "text/html": [
       "<div>\n",
       "<style scoped>\n",
       "    .dataframe tbody tr th:only-of-type {\n",
       "        vertical-align: middle;\n",
       "    }\n",
       "\n",
       "    .dataframe tbody tr th {\n",
       "        vertical-align: top;\n",
       "    }\n",
       "\n",
       "    .dataframe thead th {\n",
       "        text-align: right;\n",
       "    }\n",
       "</style>\n",
       "<table border=\"1\" class=\"dataframe\">\n",
       "  <thead>\n",
       "    <tr style=\"text-align: right;\">\n",
       "      <th></th>\n",
       "      <th>label</th>\n",
       "      <th>comment</th>\n",
       "    </tr>\n",
       "  </thead>\n",
       "  <tbody>\n",
       "    <tr>\n",
       "      <th>0</th>\n",
       "      <td>-1.0</td>\n",
       "      <td>everyone knows brand papers one knows welfare ...</td>\n",
       "    </tr>\n",
       "    <tr>\n",
       "      <th>1</th>\n",
       "      <td>0.0</td>\n",
       "      <td>paper cut balance</td>\n",
       "    </tr>\n",
       "    <tr>\n",
       "      <th>2</th>\n",
       "      <td>1.0</td>\n",
       "      <td>oh shit saw front page love song</td>\n",
       "    </tr>\n",
       "    <tr>\n",
       "      <th>3</th>\n",
       "      <td>1.0</td>\n",
       "      <td>blowing mind yet</td>\n",
       "    </tr>\n",
       "    <tr>\n",
       "      <th>4</th>\n",
       "      <td>0.0</td>\n",
       "      <td>gone dunder mifflin</td>\n",
       "    </tr>\n",
       "  </tbody>\n",
       "</table>\n",
       "</div>"
      ],
      "text/plain": [
       "   label                                            comment\n",
       "0   -1.0  everyone knows brand papers one knows welfare ...\n",
       "1    0.0                                  paper cut balance\n",
       "2    1.0                   oh shit saw front page love song\n",
       "3    1.0                                   blowing mind yet\n",
       "4    0.0                                gone dunder mifflin"
      ]
     },
     "execution_count": 22,
     "metadata": {},
     "output_type": "execute_result"
    }
   ],
   "source": [
    "comments.rename(columns = {'com_full': 'comment'}, inplace=True)\n",
    "comments.head()"
   ]
  },
  {
   "cell_type": "code",
   "execution_count": 23,
   "id": "90fe2cdc",
   "metadata": {},
   "outputs": [],
   "source": [
    "def remove_missing_vals(comments): \n",
    "    comments['comment'] = comments['comment'].str.strip()\n",
    "    comments = comments[comments.comment != 'nan'] # remove nan values from data\n",
    "    comments = comments[comments.comment != '']\n",
    "    \n",
    "remove_missing_vals(comments)"
   ]
  },
  {
   "cell_type": "code",
   "execution_count": 24,
   "id": "923090e8",
   "metadata": {},
   "outputs": [
    {
     "data": {
      "text/html": [
       "<div>\n",
       "<style scoped>\n",
       "    .dataframe tbody tr th:only-of-type {\n",
       "        vertical-align: middle;\n",
       "    }\n",
       "\n",
       "    .dataframe tbody tr th {\n",
       "        vertical-align: top;\n",
       "    }\n",
       "\n",
       "    .dataframe thead th {\n",
       "        text-align: right;\n",
       "    }\n",
       "</style>\n",
       "<table border=\"1\" class=\"dataframe\">\n",
       "  <thead>\n",
       "    <tr style=\"text-align: right;\">\n",
       "      <th></th>\n",
       "      <th>label</th>\n",
       "      <th>comment</th>\n",
       "    </tr>\n",
       "  </thead>\n",
       "  <tbody>\n",
       "    <tr>\n",
       "      <th>0</th>\n",
       "      <td>-1.0</td>\n",
       "      <td>everyone knows brand papers one knows welfare ...</td>\n",
       "    </tr>\n",
       "    <tr>\n",
       "      <th>1</th>\n",
       "      <td>0.0</td>\n",
       "      <td>paper cut balance</td>\n",
       "    </tr>\n",
       "    <tr>\n",
       "      <th>2</th>\n",
       "      <td>1.0</td>\n",
       "      <td>oh shit saw front page love song</td>\n",
       "    </tr>\n",
       "    <tr>\n",
       "      <th>3</th>\n",
       "      <td>1.0</td>\n",
       "      <td>blowing mind yet</td>\n",
       "    </tr>\n",
       "    <tr>\n",
       "      <th>4</th>\n",
       "      <td>0.0</td>\n",
       "      <td>gone dunder mifflin</td>\n",
       "    </tr>\n",
       "  </tbody>\n",
       "</table>\n",
       "</div>"
      ],
      "text/plain": [
       "   label                                            comment\n",
       "0   -1.0  everyone knows brand papers one knows welfare ...\n",
       "1    0.0                                  paper cut balance\n",
       "2    1.0                   oh shit saw front page love song\n",
       "3    1.0                                   blowing mind yet\n",
       "4    0.0                                gone dunder mifflin"
      ]
     },
     "execution_count": 24,
     "metadata": {},
     "output_type": "execute_result"
    }
   ],
   "source": [
    "comments.head()"
   ]
  },
  {
   "cell_type": "code",
   "execution_count": 25,
   "id": "cbcc2ae0",
   "metadata": {},
   "outputs": [
    {
     "data": {
      "text/plain": [
       "2355"
      ]
     },
     "execution_count": 25,
     "metadata": {},
     "output_type": "execute_result"
    }
   ],
   "source": [
    "comments['label'].isna().sum()"
   ]
  },
  {
   "cell_type": "code",
   "execution_count": 26,
   "id": "b3bc396d",
   "metadata": {},
   "outputs": [
    {
     "data": {
      "text/plain": [
       "0"
      ]
     },
     "execution_count": 26,
     "metadata": {},
     "output_type": "execute_result"
    }
   ],
   "source": [
    "comments = comments[comments['label'].notna()]\n",
    "comments['label'].isna().sum()"
   ]
  },
  {
   "cell_type": "code",
   "execution_count": 27,
   "id": "318c8c8c",
   "metadata": {},
   "outputs": [
    {
     "data": {
      "text/plain": [
       "14830"
      ]
     },
     "execution_count": 27,
     "metadata": {},
     "output_type": "execute_result"
    }
   ],
   "source": [
    "len(comments)"
   ]
  },
  {
   "cell_type": "code",
   "execution_count": 28,
   "id": "f0531a4d",
   "metadata": {},
   "outputs": [],
   "source": [
    "X = comments['comment']\n",
    "y = comments.label"
   ]
  },
  {
   "cell_type": "code",
   "execution_count": 29,
   "id": "258b7c33",
   "metadata": {},
   "outputs": [],
   "source": [
    "# split X and y into training and testing sets\n",
    "from sklearn.model_selection import train_test_split\n",
    "X_train, X_test, y_train, y_test = train_test_split(X, y, random_state=32, test_size=0.20)"
   ]
  },
  {
   "cell_type": "code",
   "execution_count": 30,
   "id": "91258b43",
   "metadata": {},
   "outputs": [],
   "source": [
    "# Initialize count vectorizer\n",
    "count_vectorizer = CountVectorizer(stop_words='english', \n",
    "                                   min_df=0.05, max_df=0.9)\n",
    "\n",
    "# Create count train and test variables\n",
    "count_train = count_vectorizer.fit_transform(X_train)\n",
    "count_test = count_vectorizer.transform(X_test)\n",
    "\n",
    "# Initialize tfidf vectorizer\n",
    "tfidf_vectorizer = TfidfVectorizer(stop_words='english', \n",
    "                                   min_df=0.05, max_df=0.9)\n",
    "\n",
    "# Create tfidf train and test variables\n",
    "tfidf_train = tfidf_vectorizer.fit_transform(X_train)\n",
    "tfidf_test = tfidf_vectorizer.transform(X_test)"
   ]
  },
  {
   "cell_type": "markdown",
   "id": "b48a0756",
   "metadata": {},
   "source": [
    "## Model Building"
   ]
  },
  {
   "cell_type": "code",
   "execution_count": 31,
   "id": "ec3c1ad9",
   "metadata": {},
   "outputs": [],
   "source": [
    "# Set seed for reproducibility\n",
    "import random; random.seed(5)\n",
    "\n",
    "# Import all we need from sklearn\n",
    "from sklearn.feature_extraction.text import CountVectorizer,TfidfVectorizer\n",
    "from sklearn.model_selection import train_test_split\n",
    "from sklearn.naive_bayes import MultinomialNB\n",
    "from sklearn.svm import LinearSVC\n",
    "from sklearn import metrics"
   ]
  },
  {
   "cell_type": "markdown",
   "id": "9d7b0c7d",
   "metadata": {},
   "source": [
    "### Naive-Bayes Model\n"
   ]
  },
  {
   "cell_type": "code",
   "execution_count": 32,
   "id": "0dd136e6",
   "metadata": {},
   "outputs": [
    {
     "name": "stdout",
     "output_type": "stream",
     "text": [
      "NaiveBayes Tfidf Score:  0.7872555630478759\n",
      "NaiveBayes Count Score:  0.7805124747134188\n"
     ]
    }
   ],
   "source": [
    "# Create Nb Model\n",
    "tfidf_nb = MultinomialNB()\n",
    "tfidf_nb.fit(tfidf_train,y_train)\n",
    "# Run predict on your TF-IDF test data to get your predictions\n",
    "tfidf_nb_pred = tfidf_nb.predict(tfidf_test)\n",
    "\n",
    "# Calculate the accuracy of your predictions\n",
    "tfidf_nb_score = metrics.accuracy_score(y_test,tfidf_nb_pred)\n",
    "\n",
    "# Create a MulitnomialNB model\n",
    "count_nb = MultinomialNB()\n",
    "count_nb.fit(count_train,y_train)\n",
    "\n",
    "\n",
    "count_nb_pred = count_nb.predict(count_test)\n",
    "\n",
    "\n",
    "count_nb_score = metrics.accuracy_score(count_nb_pred,y_test)\n",
    "\n",
    "print('NaiveBayes Tfidf Score: ', tfidf_nb_score)\n",
    "print('NaiveBayes Count Score: ', count_nb_score)"
   ]
  },
  {
   "cell_type": "markdown",
   "id": "018b70d5-1dc9-4318-be89-6bf583b4874e",
   "metadata": {},
   "source": [
    "### Logistic Regression Model"
   ]
  },
  {
   "attachments": {},
   "cell_type": "markdown",
   "id": "7a24fd4d-3fb6-4dd8-9471-8237045a5da2",
   "metadata": {},
   "source": [
    "\n",
    "from sklearn.linear_model import LogisticRegression\n",
    "lr_model_tfidf = LogisticRegression()\n",
    "lr_model_tfidf.fit(tfidf_train,y_train)\n",
    "accuracy_lr_tfidf= lr_model_tfidf.score(tfidf_test,y_test)\n",
    "print(\"Logistic Regression Tf Idf Accuracy) :\",accuracy_lr_tfidf)"
   ]
  },
  {
   "cell_type": "code",
   "execution_count": 34,
   "id": "40a57742",
   "metadata": {},
   "outputs": [
    {
     "name": "stdout",
     "output_type": "stream",
     "text": [
      "Logistic Regression accuracy : 0.7875927174645988\n"
     ]
    }
   ],
   "source": [
    "lr_model = LogisticRegression()\n",
    "lr_model.fit(count_train,y_train)\n",
    "accuracy_lr = lr_model.score(count_test,y_test)\n",
    "print(\"Logistic Regression accuracy :\",accuracy_lr)"
   ]
  },
  {
   "cell_type": "markdown",
   "id": "a91191ff",
   "metadata": {},
   "source": [
    "### SVM Model"
   ]
  },
  {
   "cell_type": "code",
   "execution_count": 35,
   "id": "1001a01a",
   "metadata": {},
   "outputs": [
    {
     "name": "stdout",
     "output_type": "stream",
     "text": [
      "LinearSVC Score (for tfidf):   0.794\n"
     ]
    }
   ],
   "source": [
    "# Create a SVM model\n",
    "from sklearn import svm\n",
    "tfidf_svc = svm.SVC(kernel='linear', C=1)\n",
    "\n",
    "tfidf_svc.fit(tfidf_train,y_train)\n",
    "\n",
    "tfidf_svc_pred = tfidf_svc.predict(tfidf_test)\n",
    "\n",
    "tfidf_svc_score = metrics.accuracy_score(y_test,tfidf_svc_pred)\n",
    "\n",
    "print(\"LinearSVC Score (for tfidf):   %0.3f\" % tfidf_svc_score)"
   ]
  },
  {
   "cell_type": "code",
   "execution_count": 36,
   "id": "07f3f65c",
   "metadata": {},
   "outputs": [
    {
     "name": "stdout",
     "output_type": "stream",
     "text": [
      "LinearSVC Score (for Count):   0.794\n"
     ]
    }
   ],
   "source": [
    "count_svc = svm.SVC(kernel='linear', C=1)\n",
    "\n",
    "count_svc.fit(count_train,y_train)\n",
    "\n",
    "count_svc_pred = count_svc.predict(count_test)\n",
    "\n",
    "\n",
    "count_svc_score = metrics.accuracy_score(y_test,count_svc_pred)\n",
    "\n",
    "print(\"LinearSVC Score (for Count):   %0.3f\" % tfidf_svc_score)"
   ]
  },
  {
   "cell_type": "markdown",
   "id": "b0f2f2ea",
   "metadata": {},
   "source": [
    "### Desicion Tree Model"
   ]
  },
  {
   "cell_type": "code",
   "execution_count": 37,
   "id": "9ff217a6",
   "metadata": {},
   "outputs": [
    {
     "name": "stdout",
     "output_type": "stream",
     "text": [
      "Decision Tree accuracy is (for Tfidf): 0.8017532029669588\n"
     ]
    }
   ],
   "source": [
    "from sklearn.tree import DecisionTreeClassifier\n",
    "dt_model_tfidf = DecisionTreeClassifier()\n",
    "dt_model_tfidf.fit(tfidf_train,y_train)\n",
    "accuracy_dt_tfidf = dt_model_tfidf.score(tfidf_test,y_test)\n",
    "print(\"Decision Tree accuracy is (for Tfidf):\",accuracy_dt_tfidf)"
   ]
  },
  {
   "cell_type": "code",
   "execution_count": 38,
   "id": "47e5daef",
   "metadata": {},
   "outputs": [
    {
     "name": "stdout",
     "output_type": "stream",
     "text": [
      "Decision Tree accuracy is (for Count): 0.8017532029669588\n"
     ]
    }
   ],
   "source": [
    "dt_model = DecisionTreeClassifier()\n",
    "dt_model.fit(count_train,y_train)\n",
    "accuracy_dt = dt_model.score(count_test,y_test)\n",
    "print(\"Decision Tree accuracy is (for Count):\",accuracy_dt)"
   ]
  },
  {
   "cell_type": "markdown",
   "id": "64123c87",
   "metadata": {},
   "source": [
    "### Random Forest Model"
   ]
  },
  {
   "cell_type": "code",
   "execution_count": 39,
   "id": "6c97b248",
   "metadata": {},
   "outputs": [
    {
     "name": "stdout",
     "output_type": "stream",
     "text": [
      "Random Forest accuracy for 5 trees is (Tfidf): 0.8020903573836817\n"
     ]
    }
   ],
   "source": [
    "from sklearn.ensemble import RandomForestClassifier\n",
    "rf_model_tfidf = RandomForestClassifier(n_estimators = 5, random_state = 1)\n",
    "rf_model_tfidf.fit(tfidf_train,y_train)\n",
    "accuracy_rf_tfidf = rf_model_tfidf.score(tfidf_test,y_test)\n",
    "print(\"Random Forest accuracy for 5 trees is (Tfidf):\",rf_model_tfidf.score(tfidf_test,y_test))"
   ]
  },
  {
   "cell_type": "code",
   "execution_count": 40,
   "id": "3a4fd33b",
   "metadata": {},
   "outputs": [
    {
     "name": "stdout",
     "output_type": "stream",
     "text": [
      "Random Forest accuracy for 5 trees is (Count): 0.8027646662171275\n"
     ]
    }
   ],
   "source": [
    "rf_model= RandomForestClassifier(n_estimators = 5, random_state = 1)\n",
    "rf_model.fit(count_train,y_train)\n",
    "accuracy_rf_count = rf_model.score(count_test,y_test)\n",
    "print(\"Random Forest accuracy for 5 trees is (Count):\",rf_model.score(count_test,y_test))"
   ]
  },
  {
   "cell_type": "markdown",
   "id": "bfa2f266-4fa1-47ee-8533-5abf442a07cb",
   "metadata": {},
   "source": [
    "Akurasi Tertinggi Di dapatkan Menggunakan Random Forest"
   ]
  },
  {
   "cell_type": "code",
   "execution_count": 41,
   "id": "b7a972b9-3723-4a76-8afa-3b0de6ca0028",
   "metadata": {},
   "outputs": [
    {
     "data": {
      "image/png": "[encoded data removed]",
      "text/plain": [
       "<Figure size 1000x600 with 1 Axes>"
      ]
     },
     "metadata": {},
     "output_type": "display_data"
    }
   ],
   "source": [
    "import matplotlib.pyplot as plt\n",
    "# Membuat data untuk visualisasi\n",
    "models = ['Naive Bayes', 'Logistic Regression', 'Linear SVC', 'Decision Tree', 'Random Forest']\n",
    "tfidf_scores = [tfidf_nb_score, accuracy_lr_tfidf, tfidf_svc_score, accuracy_dt_tfidf, accuracy_rf_tfidf]\n",
    "count_scores = [count_nb_score, accuracy_lr, count_svc_score, accuracy_dt, accuracy_rf_count]\n",
    "\n",
    "# Membuat bar plot\n",
    "x = range(len(models))\n",
    "plt.figure(figsize=(10, 6))\n",
    "bar1 = plt.bar(x, tfidf_scores, width=0.4, label='TF-IDF', align='center')\n",
    "bar2 = plt.bar(x, count_scores, width=0.4, label='Count', align='edge')\n",
    "\n",
    "# Menambahkan jumlah nilai di atas batang\n",
    "def add_value_labels(bars):\n",
    "    for bar in bars:\n",
    "        height = bar.get_height()\n",
    "        plt.text(bar.get_x() + bar.get_width() / 2, height, f'{height:.2f}', ha='center', va='bottom')\n",
    "\n",
    "add_value_labels(bar1)\n",
    "add_value_labels(bar2)\n",
    "\n",
    "plt.xlabel('Models')\n",
    "plt.ylabel('Accuracy')\n",
    "plt.title('Comparison of Model Accuracies')\n",
    "plt.xticks(x, models)\n",
    "plt.legend()\n",
    "plt.show()\n",
    "\n"
   ]
  },
  {
   "cell_type": "markdown",
   "id": "e2055098-4b2d-4c61-b460-f2ab4b2e04d7",
   "metadata": {},
   "source": [
    "Dalam plot perbandingan yang telah saya buat, saya menggunakan dua warna berbeda untuk membedakan antara dua metode vektorisasi teks yang saya gunakan:\r\n",
    "\r\n",
    "- **Warna Biru**: Batang berwarna biru dalam plot mewakili akurasi model saya menggunakan metode **TF-IDF (Term Frequency-Inverse Document Frequency) Vectorization**. Dalam metode ini, saya mengukur seberapa penting sebuah kata dalam dokumen di seluruh kumpulan data saya. Kata-kata yang sering muncul dalam satu dokumen tetapi jarang di seluruh dokumen lainnya mendapatkan skor lebih tinggi, yang menandakan pentingnya kata tersebut dalam konteks dokumen tersebut.\r\n",
    "\r\n",
    "- **Warna Orange**: Batang berwarna orange mewakili akurasi model saya dengan menggunakan metode **Count Vectorization** yang biasa. Metode ini mengubah teks menjadi vektor berdasarkan seberapa sering kata muncul dalam dokumen. Saya menghitung frekuensi kemunculan setiap kata dan membuat representasi numerik berdasarkan jumlah ini.\r\n",
    "\r\n",
    "Grafik ini sangat membantu saya untuk membandingkan efektivitas kedua metode vektorisasi teks ini dalam konteks berbagai  mesin. Dengan menampilkan akurasi kedua metode secara berdampingan untuk setiap model, saya dapat dengan mudah mengevaluasi mana metode yang lebih efektif untuk tugas analisis teks tertentu yang saya kerjakan."
   ]
  },
  {
   "cell_type": "markdown",
   "id": "940e8d21",
   "metadata": {},
   "source": [
    "# Prediksi Sentiment Analisyst Komentar "
   ]
  },
  {
   "cell_type": "code",
   "execution_count": 42,
   "id": "5b821e5a",
   "metadata": {},
   "outputs": [
    {
     "data": {
      "text/html": [
       "<div>\n",
       "<style scoped>\n",
       "    .dataframe tbody tr th:only-of-type {\n",
       "        vertical-align: middle;\n",
       "    }\n",
       "\n",
       "    .dataframe tbody tr th {\n",
       "        vertical-align: top;\n",
       "    }\n",
       "\n",
       "    .dataframe thead th {\n",
       "        text-align: right;\n",
       "    }\n",
       "</style>\n",
       "<table border=\"1\" class=\"dataframe\">\n",
       "  <thead>\n",
       "    <tr style=\"text-align: right;\">\n",
       "      <th></th>\n",
       "      <th>comment</th>\n",
       "    </tr>\n",
       "  </thead>\n",
       "  <tbody>\n",
       "    <tr>\n",
       "      <th>0</th>\n",
       "      <td>♪ Listen on Spotify!: https://spoti.fi/3gC9GfA...</td>\n",
       "    </tr>\n",
       "    <tr>\n",
       "      <th>1</th>\n",
       "      <td>My ears: *relaxing* My hands: *writing*  My le...</td>\n",
       "    </tr>\n",
       "    <tr>\n",
       "      <th>2</th>\n",
       "      <td>Parents: You have to make us proud  Partner: Y...</td>\n",
       "    </tr>\n",
       "    <tr>\n",
       "      <th>3</th>\n",
       "      <td>Little boy: “Are you an angel?”  Girl: “What?”...</td>\n",
       "    </tr>\n",
       "    <tr>\n",
       "      <th>4</th>\n",
       "      <td>Reasons to live:    “Suicide doesn’t stop the ...</td>\n",
       "    </tr>\n",
       "  </tbody>\n",
       "</table>\n",
       "</div>"
      ],
      "text/plain": [
       "                                             comment\n",
       "0  ♪ Listen on Spotify!: https://spoti.fi/3gC9GfA...\n",
       "1  My ears: *relaxing* My hands: *writing*  My le...\n",
       "2  Parents: You have to make us proud  Partner: Y...\n",
       "3  Little boy: “Are you an angel?”  Girl: “What?”...\n",
       "4  Reasons to live:    “Suicide doesn’t stop the ..."
      ]
     },
     "execution_count": 42,
     "metadata": {},
     "output_type": "execute_result"
    }
   ],
   "source": [
    "prediction_comments = pd.read_csv('DATASET/bts.csv', delimiter=\",\", encoding='utf-8', engine='python')\n",
    "prediction_comments = prediction_comments.iloc[:,:1]\n",
    "prediction_comments.columns=['comment']\n",
    "prediction_comments.head()"
   ]
  },
  {
   "cell_type": "code",
   "execution_count": 43,
   "id": "1c022176",
   "metadata": {},
   "outputs": [
    {
     "data": {
      "text/html": [
       "<div>\n",
       "<style scoped>\n",
       "    .dataframe tbody tr th:only-of-type {\n",
       "        vertical-align: middle;\n",
       "    }\n",
       "\n",
       "    .dataframe tbody tr th {\n",
       "        vertical-align: top;\n",
       "    }\n",
       "\n",
       "    .dataframe thead th {\n",
       "        text-align: right;\n",
       "    }\n",
       "</style>\n",
       "<table border=\"1\" class=\"dataframe\">\n",
       "  <thead>\n",
       "    <tr style=\"text-align: right;\">\n",
       "      <th></th>\n",
       "      <th>comment</th>\n",
       "    </tr>\n",
       "  </thead>\n",
       "  <tbody>\n",
       "    <tr>\n",
       "      <th>0</th>\n",
       "      <td>♪ Listen on Spotify!: https://spoti.fi/3gC9GfA...</td>\n",
       "    </tr>\n",
       "    <tr>\n",
       "      <th>1</th>\n",
       "      <td>My ears: *relaxing* My hands: *writing*  My le...</td>\n",
       "    </tr>\n",
       "    <tr>\n",
       "      <th>2</th>\n",
       "      <td>Parents: You have to make us proud  Partner: Y...</td>\n",
       "    </tr>\n",
       "    <tr>\n",
       "      <th>3</th>\n",
       "      <td>Little boy: “Are you an angel?”  Girl: “What?”...</td>\n",
       "    </tr>\n",
       "    <tr>\n",
       "      <th>4</th>\n",
       "      <td>Reasons to live:    “Suicide doesn’t stop the ...</td>\n",
       "    </tr>\n",
       "  </tbody>\n",
       "</table>\n",
       "</div>"
      ],
      "text/plain": [
       "                                             comment\n",
       "0  ♪ Listen on Spotify!: https://spoti.fi/3gC9GfA...\n",
       "1  My ears: *relaxing* My hands: *writing*  My le...\n",
       "2  Parents: You have to make us proud  Partner: Y...\n",
       "3  Little boy: “Are you an angel?”  Girl: “What?”...\n",
       "4  Reasons to live:    “Suicide doesn’t stop the ..."
      ]
     },
     "execution_count": 43,
     "metadata": {},
     "output_type": "execute_result"
    }
   ],
   "source": [
    "prediction_comments.head()"
   ]
  },
  {
   "cell_type": "code",
   "execution_count": 44,
   "id": "b7398f78",
   "metadata": {},
   "outputs": [
    {
     "data": {
      "text/plain": [
       "28291"
      ]
     },
     "execution_count": 44,
     "metadata": {},
     "output_type": "execute_result"
    }
   ],
   "source": [
    "len(prediction_comments['comment'])"
   ]
  },
  {
   "cell_type": "code",
   "execution_count": 45,
   "id": "1cf54e12",
   "metadata": {},
   "outputs": [
    {
     "data": {
      "text/html": [
       "<div>\n",
       "<style scoped>\n",
       "    .dataframe tbody tr th:only-of-type {\n",
       "        vertical-align: middle;\n",
       "    }\n",
       "\n",
       "    .dataframe tbody tr th {\n",
       "        vertical-align: top;\n",
       "    }\n",
       "\n",
       "    .dataframe thead th {\n",
       "        text-align: right;\n",
       "    }\n",
       "</style>\n",
       "<table border=\"1\" class=\"dataframe\">\n",
       "  <thead>\n",
       "    <tr style=\"text-align: right;\">\n",
       "      <th></th>\n",
       "      <th>comment</th>\n",
       "    </tr>\n",
       "  </thead>\n",
       "  <tbody>\n",
       "    <tr>\n",
       "      <th>0</th>\n",
       "      <td>listen spotify https spoti fi gc gfa sheet mus...</td>\n",
       "    </tr>\n",
       "    <tr>\n",
       "      <th>1</th>\n",
       "      <td>ears relaxing hands writing legs dancing mouth...</td>\n",
       "    </tr>\n",
       "    <tr>\n",
       "      <th>2</th>\n",
       "      <td>parents make us proud partner pretty friends f...</td>\n",
       "    </tr>\n",
       "    <tr>\n",
       "      <th>3</th>\n",
       "      <td>little boy angel girl little boy mom told mark...</td>\n",
       "    </tr>\n",
       "    <tr>\n",
       "      <th>4</th>\n",
       "      <td>reasons live suicide stop pain gives someone e...</td>\n",
       "    </tr>\n",
       "  </tbody>\n",
       "</table>\n",
       "</div>"
      ],
      "text/plain": [
       "                                             comment\n",
       "0  listen spotify https spoti fi gc gfa sheet mus...\n",
       "1  ears relaxing hands writing legs dancing mouth...\n",
       "2  parents make us proud partner pretty friends f...\n",
       "3  little boy angel girl little boy mom told mark...\n",
       "4  reasons live suicide stop pain gives someone e..."
      ]
     },
     "execution_count": 45,
     "metadata": {},
     "output_type": "execute_result"
    }
   ],
   "source": [
    "convert_to_string(prediction_comments)\n",
    "cleanerFn(prediction_comments)\n",
    "prediction_comments = nlpFunction(prediction_comments)\n",
    "prediction_comments = drop_cols_after_nlp(prediction_comments)\n",
    "prediction_comments.rename(columns = {'com_full': 'comment'}, inplace=True)\n",
    "remove_missing_vals(prediction_comments)\n",
    "prediction_comments.head()"
   ]
  },
  {
   "cell_type": "code",
   "execution_count": 46,
   "id": "94dddc7f",
   "metadata": {},
   "outputs": [],
   "source": [
    "tfidf_pred = tfidf_vectorizer.transform(prediction_comments['comment'])\n",
    "tfidf_rf_pred = rf_model_tfidf.predict(tfidf_pred)"
   ]
  },
  {
   "cell_type": "code",
   "execution_count": 47,
   "id": "6d1d0f70",
   "metadata": {},
   "outputs": [],
   "source": [
    "neutral = (tfidf_nb_pred == 0.0).sum()\n",
    "positive = (tfidf_nb_pred == 1.0).sum()\n",
    "negative = (tfidf_nb_pred < 0).sum()"
   ]
  },
  {
   "cell_type": "code",
   "execution_count": 48,
   "id": "7a5251c8",
   "metadata": {},
   "outputs": [
    {
     "data": {
      "image/png": "[encoded data removed]",
      "text/plain": [
       "<Figure size 800x400 with 1 Axes>"
      ]
     },
     "metadata": {},
     "output_type": "display_data"
    }
   ],
   "source": [
    "import matplotlib.pyplot as plt\n",
    "# Membuat data untuk visualisasi\n",
    "categories = ['Neutral', 'Positive', 'Negative']\n",
    "values = [neutral, positive, negative]\n",
    "\n",
    "# Membuat bar plot\n",
    "plt.figure(figsize=(8, 4))\n",
    "plt.bar(categories, values, color=['gray', 'green', 'red'])\n",
    "plt.title('Distribution of Predictions')\n",
    "plt.xlabel('Sentiment')\n",
    "plt.ylabel('Number of Predictions')\n",
    "plt.show()"
   ]
  },
  {
   "cell_type": "code",
   "execution_count": 49,
   "id": "9f6298d4",
   "metadata": {},
   "outputs": [
    {
     "name": "stdout",
     "output_type": "stream",
     "text": [
      "Good video\n"
     ]
    }
   ],
   "source": [
    "print(\"Good video\" if positive > negative else \"Bad video\")"
   ]
  }
 ],
 "metadata": {
  "kernelspec": {
   "display_name": "tigalapan",
   "language": "python",
   "name": "tigalapan"
  },
  "language_info": {
   "codemirror_mode": {
    "name": "ipython",
    "version": 3
   },
   "file_extension": ".py",
   "mimetype": "text/x-python",
   "name": "python",
   "nbconvert_exporter": "python",
   "pygments_lexer": "ipython3",
   "version": "3.8.18"
  }
 },
 "nbformat": 4,
 "nbformat_minor": 5
}
